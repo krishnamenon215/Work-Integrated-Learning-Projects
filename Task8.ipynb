{
 "cells": [
  {
   "cell_type": "code",
   "execution_count": null,
   "id": "c4392dca",
   "metadata": {},
   "outputs": [],
   "source": [
    "pip install Faker"
   ]
  },
  {
   "cell_type": "code",
   "execution_count": null,
   "id": "8a8c1945",
   "metadata": {},
   "outputs": [],
   "source": [
    "from faker import Faker\n",
    "import random\n",
    "import csv\n",
    "\n",
    "fake = Faker()\n",
    "\n",
    "# Function to generate random diet preferences\n",
    "def generate_diet_preferences():\n",
    "    diet_options = ['Vegan', 'Vegetarian', 'Paleo', 'Keto', 'Gluten-Free', 'No Preference']\n",
    "    return random.sample(diet_options, random.randint(1, len(diet_options)))\n",
    "\n",
    "# Generate fake data and write to CSV\n",
    "def generate_fake_data(filename, num_records):\n",
    "    with open(filename, 'w', newline='') as csvfile:\n",
    "        fieldnames = ['Name', 'Age', 'Gender', 'Diet_Preferences']\n",
    "        writer = csv.DictWriter(csvfile, fieldnames=fieldnames)\n",
    "        \n",
    "        writer.writeheader()\n",
    "\n",
    "        for _ in range(num_records):\n",
    "            name = fake.name()\n",
    "            age = random.randint(18, 65)\n",
    "            gender = random.choice(['Male', 'Female'])\n",
    "            diet_preferences = generate_diet_preferences()\n",
    "\n",
    "            writer.writerow({\n",
    "                'Name': name,\n",
    "                'Age': age,\n",
    "                'Gender': gender,\n",
    "                'Diet_Preferences': ', '.join(diet_preferences)\n",
    "            })\n",
    "\n",
    "if __name__ == \"__main__\":\n",
    "    output_filename = \"fake_data.csv\"\n",
    "    num_fake_records = 100\n",
    "\n",
    "    generate_fake_data(output_filename, num_fake_records)\n",
    "    print(f\"Fake data generated and saved to {output_filename}.\")\n"
   ]
  },
  {
   "cell_type": "code",
   "execution_count": null,
   "id": "2dfa5036",
   "metadata": {},
   "outputs": [],
   "source": [
    "!pip install flask\n",
    "!pip install Flask"
   ]
  },
  {
   "cell_type": "code",
   "execution_count": 4,
   "id": "34675652",
   "metadata": {},
   "outputs": [
    {
     "name": "stdout",
     "output_type": "stream",
     "text": [
      "User registered successfully\n"
     ]
    }
   ],
   "source": [
    "import hashlib\n",
    "import csv\n",
    "import os\n",
    "\n",
    "# In-memory storage for user data (replace with a secure database in production)\n",
    "users_data = {}\n",
    "\n",
    "# CSV file for storing user data\n",
    "csv_file = \"fake_data.csv\"\n",
    "\n",
    "# Read existing CSV data (if any)\n",
    "if os.path.exists(csv_file):\n",
    "    with open(csv_file, 'r') as file:\n",
    "        reader = csv.DictReader(file)\n",
    "        for row in reader:\n",
    "            users_data[row['Name']] = {\n",
    "                'Age': row['Age'],\n",
    "                'Gender': row['Gender'],\n",
    "                'Diet_Preferences': row['Diet_Preferences']\n",
    "            }\n",
    "\n",
    "def anonymize_data(data):\n",
    "    \"\"\"\n",
    "    Anonymize sensitive data using SHA-256 hashing.\n",
    "    \"\"\"\n",
    "    hashed_data = hashlib.sha256(data.encode()).hexdigest()\n",
    "    return hashed_data\n",
    "\n",
    "def register_user(name, age, gender, diet_preferences):\n",
    "    # Check if username already exists\n",
    "    if name in users_data:\n",
    "        print('Name already exists')\n",
    "        return\n",
    "\n",
    "    # Anonymize sensitive information\n",
    "    hashed_username = anonymize_data(name)\n",
    "\n",
    "    # Store anonymized data in memory (replace with a secure database)\n",
    "    users_data[hashed_username] = {\n",
    "        'Age': age,\n",
    "        'Gender': gender,\n",
    "        'Diet_Preferences': ', '.join(diet_preferences),\n",
    "    }\n",
    "\n",
    "    # Update CSV file\n",
    "    with open(csv_file, 'a', newline='') as file:\n",
    "        writer = csv.writer(file)\n",
    "        if not os.path.exists(csv_file) or os.stat(csv_file).st_size == 0:\n",
    "            writer.writerow(['Name', 'Age', 'Gender', 'Diet_Preferences'])\n",
    "        writer.writerow([hashed_username, age, gender, ', '.join(diet_preferences)])\n",
    "\n",
    "    print('User registered successfully')\n",
    "\n",
    "# Example usage:\n",
    "from \n",
    "register_user('john_doe', 25, 'Male', ['Vegan', 'Gluten-Free'])\n"
   ]
  },
  {
   "cell_type": "code",
   "execution_count": 7,
   "id": "39347f27",
   "metadata": {
    "scrolled": false
   },
   "outputs": [
    {
     "name": "stdout",
     "output_type": "stream",
     "text": [
      "{'Donald Hill': {'Age': '35', 'Gender': 'Male', 'Diet_Preferences': 'Gluten-Free'}, 'Kimberly Fletcher': {'Age': '38', 'Gender': 'Male', 'Diet_Preferences': 'Gluten-Free, No Preference, Keto, Vegan, Vegetarian, Paleo'}, 'Chase Dodson': {'Age': '34', 'Gender': 'Male', 'Diet_Preferences': 'No Preference, Vegetarian, Keto, Vegan, Gluten-Free, Paleo'}, 'Beverly Bell': {'Age': '55', 'Gender': 'Male', 'Diet_Preferences': 'Paleo, Vegan, No Preference'}, 'Jennifer Robbins': {'Age': '38', 'Gender': 'Male', 'Diet_Preferences': 'Vegan, No Preference'}, 'Francis Jackson': {'Age': '63', 'Gender': 'Male', 'Diet_Preferences': 'Gluten-Free, Vegan, Keto, Paleo, Vegetarian, No Preference'}, 'Bruce Long': {'Age': '36', 'Gender': 'Male', 'Diet_Preferences': 'Keto, No Preference'}, 'Kristy Wright': {'Age': '42', 'Gender': 'Male', 'Diet_Preferences': 'No Preference, Vegan, Vegetarian, Gluten-Free, Keto, Paleo'}, 'John Shelton': {'Age': '64', 'Gender': 'Female', 'Diet_Preferences': 'Gluten-Free, Vegan, No Preference'}, 'Roy Frazier': {'Age': '19', 'Gender': 'Male', 'Diet_Preferences': 'Paleo'}, 'Juan Hernandez': {'Age': '20', 'Gender': 'Female', 'Diet_Preferences': 'Keto, Vegetarian'}, 'Benjamin Waters': {'Age': '28', 'Gender': 'Female', 'Diet_Preferences': 'Vegetarian'}, 'Mercedes Rios': {'Age': '19', 'Gender': 'Male', 'Diet_Preferences': 'Gluten-Free, No Preference, Paleo, Vegetarian'}, 'Jessica Ruiz': {'Age': '40', 'Gender': 'Male', 'Diet_Preferences': 'No Preference, Gluten-Free, Vegetarian, Paleo, Vegan, Keto'}, 'Rebecca Thomas': {'Age': '56', 'Gender': 'Female', 'Diet_Preferences': 'Gluten-Free, Vegan, Keto, Vegetarian, No Preference, Paleo'}, 'Nicole Phillips': {'Age': '55', 'Gender': 'Female', 'Diet_Preferences': 'No Preference, Paleo, Vegetarian'}, 'Derek Carter': {'Age': '30', 'Gender': 'Male', 'Diet_Preferences': 'No Preference'}, 'Virginia Kelly': {'Age': '30', 'Gender': 'Female', 'Diet_Preferences': 'Vegan, No Preference, Vegetarian'}, 'Rebekah Bradley': {'Age': '34', 'Gender': 'Male', 'Diet_Preferences': 'Vegan'}, 'Ronald Hardy': {'Age': '48', 'Gender': 'Female', 'Diet_Preferences': 'Paleo, Vegetarian, Keto, Gluten-Free, Vegan'}, 'Rhonda Warren': {'Age': '20', 'Gender': 'Female', 'Diet_Preferences': 'Keto, Paleo, No Preference, Vegan, Gluten-Free, Vegetarian'}, 'James Dickerson': {'Age': '31', 'Gender': 'Male', 'Diet_Preferences': 'Keto, Gluten-Free, Vegetarian, Paleo, No Preference'}, 'Brad Barnett': {'Age': '29', 'Gender': 'Male', 'Diet_Preferences': 'Paleo'}, 'Melanie Miller': {'Age': '36', 'Gender': 'Male', 'Diet_Preferences': 'No Preference'}, 'Victoria Smith': {'Age': '64', 'Gender': 'Female', 'Diet_Preferences': 'Vegan, Keto, Vegetarian, Paleo, Gluten-Free, No Preference'}, 'Steven Phillips': {'Age': '37', 'Gender': 'Female', 'Diet_Preferences': 'No Preference, Keto, Gluten-Free, Vegan, Paleo, Vegetarian'}, 'Jordan Miranda': {'Age': '46', 'Gender': 'Female', 'Diet_Preferences': 'Vegetarian, Vegan, No Preference, Keto'}, 'Joseph Gutierrez': {'Age': '39', 'Gender': 'Male', 'Diet_Preferences': 'Keto, Paleo'}, 'Evelyn Miller': {'Age': '42', 'Gender': 'Male', 'Diet_Preferences': 'Keto'}, 'Alyssa Ramsey': {'Age': '56', 'Gender': 'Female', 'Diet_Preferences': 'Paleo, Keto, Vegan, Gluten-Free, Vegetarian, No Preference'}, 'Phillip Lopez': {'Age': '61', 'Gender': 'Male', 'Diet_Preferences': 'Vegetarian, Paleo, Vegan'}, 'Keith Livingston': {'Age': '50', 'Gender': 'Female', 'Diet_Preferences': 'Vegan, Keto, Gluten-Free'}, 'Kimberly Johnson': {'Age': '36', 'Gender': 'Female', 'Diet_Preferences': 'Vegetarian, Paleo, No Preference, Keto, Vegan, Gluten-Free'}, 'Jennifer Wallace': {'Age': '52', 'Gender': 'Male', 'Diet_Preferences': 'Vegetarian, Paleo'}, 'Mr. Jason Perez MD': {'Age': '34', 'Gender': 'Male', 'Diet_Preferences': 'Paleo, Gluten-Free, Keto, Vegetarian, Vegan'}, 'Chris Turner': {'Age': '18', 'Gender': 'Male', 'Diet_Preferences': 'No Preference'}, 'Ashlee Bradshaw': {'Age': '35', 'Gender': 'Female', 'Diet_Preferences': 'Vegan, Vegetarian'}, 'Brian Davis': {'Age': '51', 'Gender': 'Female', 'Diet_Preferences': 'No Preference, Paleo'}, 'Charles Powers': {'Age': '22', 'Gender': 'Male', 'Diet_Preferences': 'No Preference, Vegetarian, Vegan, Gluten-Free, Paleo'}, 'Jon Robbins': {'Age': '57', 'Gender': 'Male', 'Diet_Preferences': 'Gluten-Free, Vegetarian, Paleo, Keto, No Preference'}, 'Jillian Powers': {'Age': '35', 'Gender': 'Female', 'Diet_Preferences': 'Gluten-Free'}, 'William Norton': {'Age': '35', 'Gender': 'Female', 'Diet_Preferences': 'Vegan, Gluten-Free'}, 'Jamie Huynh': {'Age': '58', 'Gender': 'Female', 'Diet_Preferences': 'Vegan, Keto, Vegetarian'}, 'Shannon Miller': {'Age': '27', 'Gender': 'Female', 'Diet_Preferences': 'Gluten-Free, Vegetarian, Keto'}, 'Joseph Vasquez': {'Age': '65', 'Gender': 'Female', 'Diet_Preferences': 'Gluten-Free, Keto, Vegan, Vegetarian, Paleo, No Preference'}, 'Timothy Green': {'Age': '21', 'Gender': 'Female', 'Diet_Preferences': 'Vegetarian, No Preference, Vegan, Keto, Gluten-Free'}, 'Brittany Hicks': {'Age': '42', 'Gender': 'Male', 'Diet_Preferences': 'No Preference, Keto'}, 'Adam Hernandez': {'Age': '19', 'Gender': 'Male', 'Diet_Preferences': 'No Preference'}, 'Lori Lowe MD': {'Age': '51', 'Gender': 'Female', 'Diet_Preferences': 'Paleo, Vegan, Gluten-Free, No Preference, Keto, Vegetarian'}, 'Jamie Johnson': {'Age': '47', 'Gender': 'Male', 'Diet_Preferences': 'Vegetarian, Paleo, Keto'}, 'George Gonzalez': {'Age': '45', 'Gender': 'Female', 'Diet_Preferences': 'Gluten-Free, Paleo, Vegan, No Preference'}, 'Alejandro Lowe': {'Age': '39', 'Gender': 'Male', 'Diet_Preferences': 'Paleo, No Preference'}, 'Greg Martinez': {'Age': '51', 'Gender': 'Male', 'Diet_Preferences': 'Keto, Gluten-Free, No Preference, Paleo, Vegetarian'}, 'Douglas Hampton': {'Age': '44', 'Gender': 'Male', 'Diet_Preferences': 'Keto, Vegetarian, No Preference'}, 'Elijah Kim': {'Age': '52', 'Gender': 'Female', 'Diet_Preferences': 'Vegetarian, Paleo, Vegan, No Preference, Gluten-Free'}, 'Sarah Davidson': {'Age': '40', 'Gender': 'Female', 'Diet_Preferences': 'No Preference'}, 'Adam Carr': {'Age': '36', 'Gender': 'Female', 'Diet_Preferences': 'Keto'}, 'Jason Wilson': {'Age': '19', 'Gender': 'Female', 'Diet_Preferences': 'Gluten-Free, Keto, Vegetarian'}, 'Christopher Elliott': {'Age': '29', 'Gender': 'Male', 'Diet_Preferences': 'Keto, Vegan, Vegetarian, No Preference, Paleo, Gluten-Free'}, 'Robin Fields': {'Age': '25', 'Gender': 'Male', 'Diet_Preferences': 'No Preference, Keto, Paleo, Vegetarian, Gluten-Free'}, 'Curtis Hunt': {'Age': '48', 'Gender': 'Male', 'Diet_Preferences': 'Vegan, Gluten-Free, Keto, Vegetarian, No Preference'}, 'Samantha Long': {'Age': '54', 'Gender': 'Male', 'Diet_Preferences': 'Keto, Gluten-Free, Vegan, Paleo'}, 'Danny Bryant': {'Age': '37', 'Gender': 'Female', 'Diet_Preferences': 'Gluten-Free, Vegetarian, Paleo'}, 'William Sullivan': {'Age': '45', 'Gender': 'Male', 'Diet_Preferences': 'Vegan'}, 'Trevor Washington': {'Age': '27', 'Gender': 'Male', 'Diet_Preferences': 'Vegetarian, No Preference, Paleo'}, 'Kristin Smith': {'Age': '18', 'Gender': 'Male', 'Diet_Preferences': 'Gluten-Free, Vegetarian'}, 'Tyler Smith': {'Age': '30', 'Gender': 'Male', 'Diet_Preferences': 'Gluten-Free, Vegetarian, Keto, Vegan'}, 'Nicole Rose': {'Age': '59', 'Gender': 'Male', 'Diet_Preferences': 'Vegetarian, Paleo, Vegan, Gluten-Free, Keto, No Preference'}, 'Jennifer Francis': {'Age': '53', 'Gender': 'Female', 'Diet_Preferences': 'Keto, Vegan, Gluten-Free, No Preference, Paleo, Vegetarian'}, 'Jennifer Lee': {'Age': '24', 'Gender': 'Female', 'Diet_Preferences': 'Gluten-Free, Keto'}, 'Karen Parker': {'Age': '22', 'Gender': 'Male', 'Diet_Preferences': 'Gluten-Free, No Preference, Vegetarian, Vegan, Paleo, Keto'}, 'Laura Price': {'Age': '24', 'Gender': 'Female', 'Diet_Preferences': 'Vegetarian, Vegan'}, 'Kelly Johnson': {'Age': '42', 'Gender': 'Female', 'Diet_Preferences': 'Vegan, Vegetarian, Keto, Paleo, No Preference'}, 'Jacob Roman': {'Age': '20', 'Gender': 'Female', 'Diet_Preferences': 'Paleo, Gluten-Free'}, 'Kevin Smith MD': {'Age': '37', 'Gender': 'Male', 'Diet_Preferences': 'No Preference, Vegetarian, Keto'}, 'Justin Bell': {'Age': '53', 'Gender': 'Male', 'Diet_Preferences': 'Vegan, Keto, Gluten-Free, Paleo, Vegetarian, No Preference'}, 'Kelly Miller': {'Age': '36', 'Gender': 'Female', 'Diet_Preferences': 'Gluten-Free, Paleo, No Preference, Keto, Vegan'}, 'Emily Hill': {'Age': '50', 'Gender': 'Male', 'Diet_Preferences': 'Keto, Vegetarian, Paleo, No Preference, Vegan, Gluten-Free'}, 'Adrienne Faulkner': {'Age': '46', 'Gender': 'Male', 'Diet_Preferences': 'No Preference, Paleo, Keto, Gluten-Free, Vegetarian'}, 'Carly Martin': {'Age': '22', 'Gender': 'Female', 'Diet_Preferences': 'No Preference, Paleo, Vegan, Gluten-Free'}, 'Angela White': {'Age': '32', 'Gender': 'Male', 'Diet_Preferences': 'No Preference, Gluten-Free, Vegetarian, Keto'}, 'Elizabeth Johnston': {'Age': '36', 'Gender': 'Male', 'Diet_Preferences': 'Keto, Paleo, Gluten-Free'}, 'Jimmy Grimes': {'Age': '61', 'Gender': 'Male', 'Diet_Preferences': 'Gluten-Free, Vegan'}, 'Danielle Gilbert': {'Age': '64', 'Gender': 'Male', 'Diet_Preferences': 'Paleo, Gluten-Free'}, 'Robert Gonzalez': {'Age': '49', 'Gender': 'Female', 'Diet_Preferences': 'No Preference, Paleo'}, 'Laura Crawford': {'Age': '63', 'Gender': 'Female', 'Diet_Preferences': 'Vegetarian, Paleo, Keto, Gluten-Free'}, 'David Davila': {'Age': '42', 'Gender': 'Female', 'Diet_Preferences': 'No Preference, Paleo, Vegan, Vegetarian, Gluten-Free'}, 'Steven Sims Jr.': {'Age': '38', 'Gender': 'Male', 'Diet_Preferences': 'Keto, Vegetarian, Paleo'}, 'Kelsey Nguyen': {'Age': '41', 'Gender': 'Female', 'Diet_Preferences': 'Paleo, Gluten-Free, No Preference'}, 'Linda Howard': {'Age': '31', 'Gender': 'Female', 'Diet_Preferences': 'Gluten-Free, Vegan, Paleo, Keto, No Preference'}, 'Regina Rogers': {'Age': '33', 'Gender': 'Female', 'Diet_Preferences': 'Keto'}, 'Kendra Garcia': {'Age': '26', 'Gender': 'Female', 'Diet_Preferences': 'Gluten-Free, Keto, Vegan, Vegetarian, Paleo, No Preference'}, 'Christopher Freeman': {'Age': '65', 'Gender': 'Male', 'Diet_Preferences': 'Keto'}, 'Mark Shaw': {'Age': '20', 'Gender': 'Male', 'Diet_Preferences': 'Keto, Vegetarian, Vegan'}, 'Maria Fischer DDS': {'Age': '44', 'Gender': 'Female', 'Diet_Preferences': 'No Preference, Keto, Gluten-Free, Paleo, Vegan, Vegetarian'}, 'Cynthia Robinson': {'Age': '59', 'Gender': 'Male', 'Diet_Preferences': 'Vegan, Keto, Paleo, Vegetarian'}, 'Megan Allen': {'Age': '23', 'Gender': 'Male', 'Diet_Preferences': 'Gluten-Free, Vegetarian'}, 'Robin Boyd': {'Age': '40', 'Gender': 'Male', 'Diet_Preferences': 'Vegan, Vegetarian, Gluten-Free'}, 'Amanda Beck': {'Age': '49', 'Gender': 'Female', 'Diet_Preferences': 'Vegan, Vegetarian, Gluten-Free, No Preference, Keto, Paleo'}, 'Cody Clark': {'Age': '43', 'Gender': 'Male', 'Diet_Preferences': 'Vegetarian, Vegan'}, '99682b662166cd8e4adc60d43c67b7a8227b3cdd74452dbdf71b6ca42a366363': {'Age': 25, 'Gender': 'Male', 'Diet_Preferences': 'Vegan, Gluten-Free'}}\n"
     ]
    }
   ],
   "source": [
    "print(users_data)"
   ]
  },
  {
   "cell_type": "code",
   "execution_count": 9,
   "id": "94882f1c",
   "metadata": {},
   "outputs": [
    {
     "name": "stdout",
     "output_type": "stream",
     "text": [
      "User registered successfully\n"
     ]
    }
   ],
   "source": [
    "import hashlib\n",
    "import csv\n",
    "import os\n",
    "\n",
    "class MealPlanSystem:\n",
    "    def __init__(self):\n",
    "        # In-memory storage for user data (replace with a secure database in production)\n",
    "        self.users_data = {}\n",
    "\n",
    "        # CSV file for storing user data\n",
    "        self.csv_file = \"fake_data.csv\"\n",
    "\n",
    "        # Read existing CSV data (if any)\n",
    "        self.load_existing_data()\n",
    "\n",
    "    def load_existing_data(self):\n",
    "        if os.path.exists(self.csv_file):\n",
    "            with open(self.csv_file, 'r') as file:\n",
    "                reader = csv.DictReader(file)\n",
    "                for row in reader:\n",
    "                    self.users_data[row['Name']] = {\n",
    "                        'Age': row['Age'],\n",
    "                        'Gender': row['Gender'],\n",
    "                        'Diet_Preferences': row['Diet_Preferences']\n",
    "                    }\n",
    "\n",
    "    def anonymize_data(self, data):\n",
    "        \"\"\"\n",
    "        Anonymize sensitive data using SHA-256 hashing.\n",
    "        \"\"\"\n",
    "        hashed_data = hashlib.sha256(data.encode()).hexdigest()\n",
    "        return hashed_data\n",
    "\n",
    "    def register_user(self, name, age, gender, diet_preferences):\n",
    "        # Check if username already exists\n",
    "        if name in self.users_data:\n",
    "            print('name already exists')\n",
    "            return\n",
    "\n",
    "        # Anonymize sensitive information\n",
    "        hashed_username = self.anonymize_data(name)\n",
    "\n",
    "        # Store anonymized data in memory (replace with a secure database)\n",
    "        self.users_data[hashed_username] = {\n",
    "            'Age': age,\n",
    "            'Gender': gender,\n",
    "            'Diet_Preferences': ', '.join(diet_preferences),\n",
    "        }\n",
    "\n",
    "        # Update CSV file\n",
    "        with open(self.csv_file, 'a', newline='') as file:\n",
    "            writer = csv.writer(file)\n",
    "            if not os.path.exists(self.csv_file) or os.stat(self.csv_file).st_size == 0:\n",
    "                writer.writerow(['Name', 'Age', 'Gender', 'Diet_Preferences'])\n",
    "            writer.writerow([hashed_username, age, gender, ', '.join(diet_preferences)])\n",
    "\n",
    "        print('User registered successfully')\n",
    "\n",
    "if __name__ == \"__main__\":\n",
    "    meal_plan_system = MealPlanSystem()\n",
    "\n",
    "    # Example usage:\n",
    "    meal_plan_system.register_user('john_doe', 25, 'Male', ['Vegan', 'Gluten-Free'])\n"
   ]
  },
  {
   "cell_type": "code",
   "execution_count": 11,
   "id": "fb884012",
   "metadata": {},
   "outputs": [
    {
     "name": "stdout",
     "output_type": "stream",
     "text": [
      "101\n"
     ]
    }
   ],
   "source": [
    "print(len(users_data))"
   ]
  },
  {
   "cell_type": "code",
   "execution_count": null,
   "id": "afc823e7",
   "metadata": {},
   "outputs": [],
   "source": []
  }
 ],
 "metadata": {
  "kernelspec": {
   "display_name": "Python 3 (ipykernel)",
   "language": "python",
   "name": "python3"
  },
  "language_info": {
   "codemirror_mode": {
    "name": "ipython",
    "version": 3
   },
   "file_extension": ".py",
   "mimetype": "text/x-python",
   "name": "python",
   "nbconvert_exporter": "python",
   "pygments_lexer": "ipython3",
   "version": "3.10.9"
  }
 },
 "nbformat": 4,
 "nbformat_minor": 5
}
