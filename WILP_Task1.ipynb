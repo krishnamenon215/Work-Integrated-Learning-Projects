{
  "nbformat": 4,
  "nbformat_minor": 0,
  "metadata": {
    "colab": {
      "provenance": []
    },
    "kernelspec": {
      "name": "python3",
      "display_name": "Python 3"
    },
    "language_info": {
      "name": "python"
    }
  },
  "cells": [
    {
      "cell_type": "markdown",
      "source": [
        "#WIL PROJECT - WEEK 1"
      ],
      "metadata": {
        "id": "TUOkcOmfxKFx"
      }
    },
    {
      "cell_type": "markdown",
      "source": [
        "Submitted By:\n",
        "\n",
        "Krishna Babu Menon (C0856683)\n",
        "\n",
        "Karnav Patel"
      ],
      "metadata": {
        "id": "EdOZOrdzxMcY"
      }
    },
    {
      "cell_type": "code",
      "source": [
        "import pandas as pd\n",
        "import matplotlib.pyplot as plt\n",
        "import seaborn as sns\n",
        "from sklearn.feature_extraction.text import TfidfVectorizer\n",
        "from sklearn.metrics.pairwise import linear_kernel\n",
        "import numpy as np\n",
        "from sklearn.model_selection import train_test_split\n",
        "from sklearn.preprocessing import LabelEncoder\n",
        "from tensorflow.keras.models import Model\n",
        "from tensorflow.keras.layers import Input, Embedding, Flatten, Concatenate, Dense\n",
        "from tensorflow.keras.optimizers import Adam\n",
        "from sklearn.metrics import mean_squared_error"
      ],
      "metadata": {
        "id": "BWnpFC7bzl9i"
      },
      "execution_count": null,
      "outputs": []
    },
    {
      "cell_type": "code",
      "source": [
        "from google.colab import drive\n",
        "drive.mount('/content/drive')"
      ],
      "metadata": {
        "colab": {
          "base_uri": "https://localhost:8080/"
        },
        "id": "Tk61kxV7zBx4",
        "outputId": "e4453bcd-291d-47f2-9087-f0115f2765bb"
      },
      "execution_count": null,
      "outputs": [
        {
          "output_type": "stream",
          "name": "stdout",
          "text": [
            "Drive already mounted at /content/drive; to attempt to forcibly remount, call drive.mount(\"/content/drive\", force_remount=True).\n"
          ]
        }
      ]
    },
    {
      "cell_type": "markdown",
      "source": [
        "Reading the preference csv file from the google drive"
      ],
      "metadata": {
        "id": "aoeAkNsfzLCL"
      }
    },
    {
      "cell_type": "code",
      "source": [
        "pref_df = pd.read_csv('/content/drive/MyDrive/krishna/Luigi_Preferences.csv')\n",
        "pref_df.head()"
      ],
      "metadata": {
        "colab": {
          "base_uri": "https://localhost:8080/",
          "height": 206
        },
        "id": "5YciM76FzhHQ",
        "outputId": "f40ed599-f678-4d77-e058-85009bd1250d"
      },
      "execution_count": null,
      "outputs": [
        {
          "output_type": "execute_result",
          "data": {
            "text/plain": [
              "   User ID  Age Nationality Residence Cuisine Preference     Recipe Selection\n",
              "0        1   26     Italian    Canada            Italian       Lasagna, Pizza\n",
              "1        2   26     Italian    Canada            Italian  Spaghetti Carbonara\n",
              "2        3   26     Italian    Canada            Italian             Tiramisu\n",
              "3        4   26     Italian    Canada            Italian              Risotto\n",
              "4        5   26     Italian    Canada            Italian          Panna Cotta"
            ],
            "text/html": [
              "\n",
              "  <div id=\"df-b884dc94-0571-40b8-8cf1-c69ed0733a42\" class=\"colab-df-container\">\n",
              "    <div>\n",
              "<style scoped>\n",
              "    .dataframe tbody tr th:only-of-type {\n",
              "        vertical-align: middle;\n",
              "    }\n",
              "\n",
              "    .dataframe tbody tr th {\n",
              "        vertical-align: top;\n",
              "    }\n",
              "\n",
              "    .dataframe thead th {\n",
              "        text-align: right;\n",
              "    }\n",
              "</style>\n",
              "<table border=\"1\" class=\"dataframe\">\n",
              "  <thead>\n",
              "    <tr style=\"text-align: right;\">\n",
              "      <th></th>\n",
              "      <th>User ID</th>\n",
              "      <th>Age</th>\n",
              "      <th>Nationality</th>\n",
              "      <th>Residence</th>\n",
              "      <th>Cuisine Preference</th>\n",
              "      <th>Recipe Selection</th>\n",
              "    </tr>\n",
              "  </thead>\n",
              "  <tbody>\n",
              "    <tr>\n",
              "      <th>0</th>\n",
              "      <td>1</td>\n",
              "      <td>26</td>\n",
              "      <td>Italian</td>\n",
              "      <td>Canada</td>\n",
              "      <td>Italian</td>\n",
              "      <td>Lasagna, Pizza</td>\n",
              "    </tr>\n",
              "    <tr>\n",
              "      <th>1</th>\n",
              "      <td>2</td>\n",
              "      <td>26</td>\n",
              "      <td>Italian</td>\n",
              "      <td>Canada</td>\n",
              "      <td>Italian</td>\n",
              "      <td>Spaghetti Carbonara</td>\n",
              "    </tr>\n",
              "    <tr>\n",
              "      <th>2</th>\n",
              "      <td>3</td>\n",
              "      <td>26</td>\n",
              "      <td>Italian</td>\n",
              "      <td>Canada</td>\n",
              "      <td>Italian</td>\n",
              "      <td>Tiramisu</td>\n",
              "    </tr>\n",
              "    <tr>\n",
              "      <th>3</th>\n",
              "      <td>4</td>\n",
              "      <td>26</td>\n",
              "      <td>Italian</td>\n",
              "      <td>Canada</td>\n",
              "      <td>Italian</td>\n",
              "      <td>Risotto</td>\n",
              "    </tr>\n",
              "    <tr>\n",
              "      <th>4</th>\n",
              "      <td>5</td>\n",
              "      <td>26</td>\n",
              "      <td>Italian</td>\n",
              "      <td>Canada</td>\n",
              "      <td>Italian</td>\n",
              "      <td>Panna Cotta</td>\n",
              "    </tr>\n",
              "  </tbody>\n",
              "</table>\n",
              "</div>\n",
              "    <div class=\"colab-df-buttons\">\n",
              "\n",
              "  <div class=\"colab-df-container\">\n",
              "    <button class=\"colab-df-convert\" onclick=\"convertToInteractive('df-b884dc94-0571-40b8-8cf1-c69ed0733a42')\"\n",
              "            title=\"Convert this dataframe to an interactive table.\"\n",
              "            style=\"display:none;\">\n",
              "\n",
              "  <svg xmlns=\"http://www.w3.org/2000/svg\" height=\"24px\" viewBox=\"0 -960 960 960\">\n",
              "    <path d=\"M120-120v-720h720v720H120Zm60-500h600v-160H180v160Zm220 220h160v-160H400v160Zm0 220h160v-160H400v160ZM180-400h160v-160H180v160Zm440 0h160v-160H620v160ZM180-180h160v-160H180v160Zm440 0h160v-160H620v160Z\"/>\n",
              "  </svg>\n",
              "    </button>\n",
              "\n",
              "  <style>\n",
              "    .colab-df-container {\n",
              "      display:flex;\n",
              "      gap: 12px;\n",
              "    }\n",
              "\n",
              "    .colab-df-convert {\n",
              "      background-color: #E8F0FE;\n",
              "      border: none;\n",
              "      border-radius: 50%;\n",
              "      cursor: pointer;\n",
              "      display: none;\n",
              "      fill: #1967D2;\n",
              "      height: 32px;\n",
              "      padding: 0 0 0 0;\n",
              "      width: 32px;\n",
              "    }\n",
              "\n",
              "    .colab-df-convert:hover {\n",
              "      background-color: #E2EBFA;\n",
              "      box-shadow: 0px 1px 2px rgba(60, 64, 67, 0.3), 0px 1px 3px 1px rgba(60, 64, 67, 0.15);\n",
              "      fill: #174EA6;\n",
              "    }\n",
              "\n",
              "    .colab-df-buttons div {\n",
              "      margin-bottom: 4px;\n",
              "    }\n",
              "\n",
              "    [theme=dark] .colab-df-convert {\n",
              "      background-color: #3B4455;\n",
              "      fill: #D2E3FC;\n",
              "    }\n",
              "\n",
              "    [theme=dark] .colab-df-convert:hover {\n",
              "      background-color: #434B5C;\n",
              "      box-shadow: 0px 1px 3px 1px rgba(0, 0, 0, 0.15);\n",
              "      filter: drop-shadow(0px 1px 2px rgba(0, 0, 0, 0.3));\n",
              "      fill: #FFFFFF;\n",
              "    }\n",
              "  </style>\n",
              "\n",
              "    <script>\n",
              "      const buttonEl =\n",
              "        document.querySelector('#df-b884dc94-0571-40b8-8cf1-c69ed0733a42 button.colab-df-convert');\n",
              "      buttonEl.style.display =\n",
              "        google.colab.kernel.accessAllowed ? 'block' : 'none';\n",
              "\n",
              "      async function convertToInteractive(key) {\n",
              "        const element = document.querySelector('#df-b884dc94-0571-40b8-8cf1-c69ed0733a42');\n",
              "        const dataTable =\n",
              "          await google.colab.kernel.invokeFunction('convertToInteractive',\n",
              "                                                    [key], {});\n",
              "        if (!dataTable) return;\n",
              "\n",
              "        const docLinkHtml = 'Like what you see? Visit the ' +\n",
              "          '<a target=\"_blank\" href=https://colab.research.google.com/notebooks/data_table.ipynb>data table notebook</a>'\n",
              "          + ' to learn more about interactive tables.';\n",
              "        element.innerHTML = '';\n",
              "        dataTable['output_type'] = 'display_data';\n",
              "        await google.colab.output.renderOutput(dataTable, element);\n",
              "        const docLink = document.createElement('div');\n",
              "        docLink.innerHTML = docLinkHtml;\n",
              "        element.appendChild(docLink);\n",
              "      }\n",
              "    </script>\n",
              "  </div>\n",
              "\n",
              "\n",
              "<div id=\"df-53a386df-d9f5-4cf0-9608-a96a0920fa80\">\n",
              "  <button class=\"colab-df-quickchart\" onclick=\"quickchart('df-53a386df-d9f5-4cf0-9608-a96a0920fa80')\"\n",
              "            title=\"Suggest charts.\"\n",
              "            style=\"display:none;\">\n",
              "\n",
              "<svg xmlns=\"http://www.w3.org/2000/svg\" height=\"24px\"viewBox=\"0 0 24 24\"\n",
              "     width=\"24px\">\n",
              "    <g>\n",
              "        <path d=\"M19 3H5c-1.1 0-2 .9-2 2v14c0 1.1.9 2 2 2h14c1.1 0 2-.9 2-2V5c0-1.1-.9-2-2-2zM9 17H7v-7h2v7zm4 0h-2V7h2v10zm4 0h-2v-4h2v4z\"/>\n",
              "    </g>\n",
              "</svg>\n",
              "  </button>\n",
              "\n",
              "<style>\n",
              "  .colab-df-quickchart {\n",
              "      --bg-color: #E8F0FE;\n",
              "      --fill-color: #1967D2;\n",
              "      --hover-bg-color: #E2EBFA;\n",
              "      --hover-fill-color: #174EA6;\n",
              "      --disabled-fill-color: #AAA;\n",
              "      --disabled-bg-color: #DDD;\n",
              "  }\n",
              "\n",
              "  [theme=dark] .colab-df-quickchart {\n",
              "      --bg-color: #3B4455;\n",
              "      --fill-color: #D2E3FC;\n",
              "      --hover-bg-color: #434B5C;\n",
              "      --hover-fill-color: #FFFFFF;\n",
              "      --disabled-bg-color: #3B4455;\n",
              "      --disabled-fill-color: #666;\n",
              "  }\n",
              "\n",
              "  .colab-df-quickchart {\n",
              "    background-color: var(--bg-color);\n",
              "    border: none;\n",
              "    border-radius: 50%;\n",
              "    cursor: pointer;\n",
              "    display: none;\n",
              "    fill: var(--fill-color);\n",
              "    height: 32px;\n",
              "    padding: 0;\n",
              "    width: 32px;\n",
              "  }\n",
              "\n",
              "  .colab-df-quickchart:hover {\n",
              "    background-color: var(--hover-bg-color);\n",
              "    box-shadow: 0 1px 2px rgba(60, 64, 67, 0.3), 0 1px 3px 1px rgba(60, 64, 67, 0.15);\n",
              "    fill: var(--button-hover-fill-color);\n",
              "  }\n",
              "\n",
              "  .colab-df-quickchart-complete:disabled,\n",
              "  .colab-df-quickchart-complete:disabled:hover {\n",
              "    background-color: var(--disabled-bg-color);\n",
              "    fill: var(--disabled-fill-color);\n",
              "    box-shadow: none;\n",
              "  }\n",
              "\n",
              "  .colab-df-spinner {\n",
              "    border: 2px solid var(--fill-color);\n",
              "    border-color: transparent;\n",
              "    border-bottom-color: var(--fill-color);\n",
              "    animation:\n",
              "      spin 1s steps(1) infinite;\n",
              "  }\n",
              "\n",
              "  @keyframes spin {\n",
              "    0% {\n",
              "      border-color: transparent;\n",
              "      border-bottom-color: var(--fill-color);\n",
              "      border-left-color: var(--fill-color);\n",
              "    }\n",
              "    20% {\n",
              "      border-color: transparent;\n",
              "      border-left-color: var(--fill-color);\n",
              "      border-top-color: var(--fill-color);\n",
              "    }\n",
              "    30% {\n",
              "      border-color: transparent;\n",
              "      border-left-color: var(--fill-color);\n",
              "      border-top-color: var(--fill-color);\n",
              "      border-right-color: var(--fill-color);\n",
              "    }\n",
              "    40% {\n",
              "      border-color: transparent;\n",
              "      border-right-color: var(--fill-color);\n",
              "      border-top-color: var(--fill-color);\n",
              "    }\n",
              "    60% {\n",
              "      border-color: transparent;\n",
              "      border-right-color: var(--fill-color);\n",
              "    }\n",
              "    80% {\n",
              "      border-color: transparent;\n",
              "      border-right-color: var(--fill-color);\n",
              "      border-bottom-color: var(--fill-color);\n",
              "    }\n",
              "    90% {\n",
              "      border-color: transparent;\n",
              "      border-bottom-color: var(--fill-color);\n",
              "    }\n",
              "  }\n",
              "</style>\n",
              "\n",
              "  <script>\n",
              "    async function quickchart(key) {\n",
              "      const quickchartButtonEl =\n",
              "        document.querySelector('#' + key + ' button');\n",
              "      quickchartButtonEl.disabled = true;  // To prevent multiple clicks.\n",
              "      quickchartButtonEl.classList.add('colab-df-spinner');\n",
              "      try {\n",
              "        const charts = await google.colab.kernel.invokeFunction(\n",
              "            'suggestCharts', [key], {});\n",
              "      } catch (error) {\n",
              "        console.error('Error during call to suggestCharts:', error);\n",
              "      }\n",
              "      quickchartButtonEl.classList.remove('colab-df-spinner');\n",
              "      quickchartButtonEl.classList.add('colab-df-quickchart-complete');\n",
              "    }\n",
              "    (() => {\n",
              "      let quickchartButtonEl =\n",
              "        document.querySelector('#df-53a386df-d9f5-4cf0-9608-a96a0920fa80 button');\n",
              "      quickchartButtonEl.style.display =\n",
              "        google.colab.kernel.accessAllowed ? 'block' : 'none';\n",
              "    })();\n",
              "  </script>\n",
              "</div>\n",
              "    </div>\n",
              "  </div>\n"
            ]
          },
          "metadata": {},
          "execution_count": 10
        }
      ]
    },
    {
      "cell_type": "markdown",
      "source": [
        "checking the shape"
      ],
      "metadata": {
        "id": "qIZEg2PizprD"
      }
    },
    {
      "cell_type": "code",
      "source": [
        "pref_df.shape"
      ],
      "metadata": {
        "colab": {
          "base_uri": "https://localhost:8080/"
        },
        "id": "A0-B41KozxFQ",
        "outputId": "87753435-3fa8-484d-92ce-ca4bf241227c"
      },
      "execution_count": null,
      "outputs": [
        {
          "output_type": "execute_result",
          "data": {
            "text/plain": [
              "(15, 6)"
            ]
          },
          "metadata": {},
          "execution_count": 11
        }
      ]
    },
    {
      "cell_type": "markdown",
      "source": [
        "##I - Clean the provided dataset about Luigi’s preferences, handle any missing values, and ensure it is in a suitable format for analysis and model building."
      ],
      "metadata": {
        "id": "z7TUSuLNz-QI"
      }
    },
    {
      "cell_type": "markdown",
      "source": [
        "###Check for missing value"
      ],
      "metadata": {
        "id": "6gmJC5xk0NZU"
      }
    },
    {
      "cell_type": "code",
      "source": [
        "pref_df.isnull().sum()"
      ],
      "metadata": {
        "colab": {
          "base_uri": "https://localhost:8080/"
        },
        "id": "XP2EZrs90SOE",
        "outputId": "aa898761-2ca2-4f9c-b369-5e72d3b0ac2e"
      },
      "execution_count": null,
      "outputs": [
        {
          "output_type": "execute_result",
          "data": {
            "text/plain": [
              "User ID               0\n",
              "Age                   0\n",
              "Nationality           0\n",
              "Residence             0\n",
              "Cuisine Preference    0\n",
              "Recipe Selection      0\n",
              "dtype: int64"
            ]
          },
          "metadata": {},
          "execution_count": 12
        }
      ]
    },
    {
      "cell_type": "markdown",
      "source": [
        "Checking value count for each column"
      ],
      "metadata": {
        "id": "xzel_djN0olq"
      }
    },
    {
      "cell_type": "code",
      "source": [
        "pref_df['Age'].value_counts()"
      ],
      "metadata": {
        "colab": {
          "base_uri": "https://localhost:8080/"
        },
        "id": "jnP3e76y0UdH",
        "outputId": "d1059e0c-bf43-4a4a-ff80-9d971979eaf7"
      },
      "execution_count": null,
      "outputs": [
        {
          "output_type": "execute_result",
          "data": {
            "text/plain": [
              "26    15\n",
              "Name: Age, dtype: int64"
            ]
          },
          "metadata": {},
          "execution_count": 13
        }
      ]
    },
    {
      "cell_type": "code",
      "source": [
        "pref_df['Nationality'].value_counts()"
      ],
      "metadata": {
        "colab": {
          "base_uri": "https://localhost:8080/"
        },
        "id": "8naB6fQ10tEO",
        "outputId": "71772fcf-1eba-43c2-84ba-9e3911837129"
      },
      "execution_count": null,
      "outputs": [
        {
          "output_type": "execute_result",
          "data": {
            "text/plain": [
              "Italian    15\n",
              "Name: Nationality, dtype: int64"
            ]
          },
          "metadata": {},
          "execution_count": 14
        }
      ]
    },
    {
      "cell_type": "code",
      "source": [
        "pref_df['Residence'].value_counts()"
      ],
      "metadata": {
        "colab": {
          "base_uri": "https://localhost:8080/"
        },
        "id": "4FOcZS-R0vOo",
        "outputId": "6af13962-ef31-4d5a-9a01-bec74c3c0e4b"
      },
      "execution_count": null,
      "outputs": [
        {
          "output_type": "execute_result",
          "data": {
            "text/plain": [
              "Canada    15\n",
              "Name: Residence, dtype: int64"
            ]
          },
          "metadata": {},
          "execution_count": 15
        }
      ]
    },
    {
      "cell_type": "code",
      "source": [
        "pref_df['Cuisine Preference'].value_counts()"
      ],
      "metadata": {
        "colab": {
          "base_uri": "https://localhost:8080/"
        },
        "id": "BcAzHhJB0x_o",
        "outputId": "39c7b79e-7221-4172-f5dd-039fd00ee30c"
      },
      "execution_count": null,
      "outputs": [
        {
          "output_type": "execute_result",
          "data": {
            "text/plain": [
              "Italian    15\n",
              "Name: Cuisine Preference, dtype: int64"
            ]
          },
          "metadata": {},
          "execution_count": 16
        }
      ]
    },
    {
      "cell_type": "code",
      "source": [
        "pref_df['Recipe Selection'].value_counts()"
      ],
      "metadata": {
        "colab": {
          "base_uri": "https://localhost:8080/"
        },
        "id": "RNnHtCp2048a",
        "outputId": "7ea34d7f-de93-4282-ecd2-b96eb51e6ce9"
      },
      "execution_count": null,
      "outputs": [
        {
          "output_type": "execute_result",
          "data": {
            "text/plain": [
              "Lasagna, Pizza         1\n",
              "Spaghetti Carbonara    1\n",
              "Tiramisu               1\n",
              "Risotto                1\n",
              "Panna Cotta            1\n",
              "Gnocchi                1\n",
              "Ravioli                1\n",
              "Osso Buco              1\n",
              "Minestrone Soup        1\n",
              "Cannoli                1\n",
              "Caprese Salad          1\n",
              "Biscotti               1\n",
              "Focaccia               1\n",
              "Ossobuco               1\n",
              "Eggplant Parmigiana    1\n",
              "Name: Recipe Selection, dtype: int64"
            ]
          },
          "metadata": {},
          "execution_count": 17
        }
      ]
    },
    {
      "cell_type": "markdown",
      "source": [
        "From above one particular entry is repeated twice which is Osso Buco and Ossobuco. Typically they both are same. Imputing the same"
      ],
      "metadata": {
        "id": "8ND_zZzc1DCZ"
      }
    },
    {
      "cell_type": "code",
      "source": [
        "pref_df['Recipe Selection'] = pref_df['Recipe Selection'].replace('Osso Buco', 'Ossobuco')"
      ],
      "metadata": {
        "id": "oJoUkkGk1c80"
      },
      "execution_count": null,
      "outputs": []
    },
    {
      "cell_type": "code",
      "source": [
        "pref_df['Recipe Selection'].value_counts()"
      ],
      "metadata": {
        "colab": {
          "base_uri": "https://localhost:8080/"
        },
        "id": "7P3GlwAi1w7a",
        "outputId": "2411948d-650b-4116-da59-95ac2b99420e"
      },
      "execution_count": null,
      "outputs": [
        {
          "output_type": "execute_result",
          "data": {
            "text/plain": [
              "Ossobuco               2\n",
              "Lasagna, Pizza         1\n",
              "Spaghetti Carbonara    1\n",
              "Tiramisu               1\n",
              "Risotto                1\n",
              "Panna Cotta            1\n",
              "Gnocchi                1\n",
              "Ravioli                1\n",
              "Minestrone Soup        1\n",
              "Cannoli                1\n",
              "Caprese Salad          1\n",
              "Biscotti               1\n",
              "Focaccia               1\n",
              "Eggplant Parmigiana    1\n",
              "Name: Recipe Selection, dtype: int64"
            ]
          },
          "metadata": {},
          "execution_count": 19
        }
      ]
    },
    {
      "cell_type": "markdown",
      "source": [
        "### Check for data format"
      ],
      "metadata": {
        "id": "I7_2Zj711yEY"
      }
    },
    {
      "cell_type": "code",
      "source": [
        "pref_df.dtypes"
      ],
      "metadata": {
        "colab": {
          "base_uri": "https://localhost:8080/"
        },
        "id": "T6KXgkH91-tL",
        "outputId": "e6b61f28-ab79-4981-af1b-84d5a2ad654c"
      },
      "execution_count": null,
      "outputs": [
        {
          "output_type": "execute_result",
          "data": {
            "text/plain": [
              "User ID                int64\n",
              "Age                    int64\n",
              "Nationality           object\n",
              "Residence             object\n",
              "Cuisine Preference    object\n",
              "Recipe Selection      object\n",
              "dtype: object"
            ]
          },
          "metadata": {},
          "execution_count": 13
        }
      ]
    },
    {
      "cell_type": "code",
      "source": [
        "pref_df.info()"
      ],
      "metadata": {
        "colab": {
          "base_uri": "https://localhost:8080/"
        },
        "id": "F_s-zh-L2AzI",
        "outputId": "6e2fac8d-79da-4415-fcee-49aacc3107a4"
      },
      "execution_count": null,
      "outputs": [
        {
          "output_type": "stream",
          "name": "stdout",
          "text": [
            "<class 'pandas.core.frame.DataFrame'>\n",
            "RangeIndex: 15 entries, 0 to 14\n",
            "Data columns (total 6 columns):\n",
            " #   Column              Non-Null Count  Dtype \n",
            "---  ------              --------------  ----- \n",
            " 0   User ID             15 non-null     int64 \n",
            " 1   Age                 15 non-null     int64 \n",
            " 2   Nationality         15 non-null     object\n",
            " 3   Residence           15 non-null     object\n",
            " 4   Cuisine Preference  15 non-null     object\n",
            " 5   Recipe Selection    15 non-null     object\n",
            "dtypes: int64(2), object(4)\n",
            "memory usage: 848.0+ bytes\n"
          ]
        }
      ]
    },
    {
      "cell_type": "markdown",
      "source": [
        "### checking for duplicate entry"
      ],
      "metadata": {
        "id": "i9Z-dIC32MWx"
      }
    },
    {
      "cell_type": "code",
      "source": [
        "pref_df.duplicated().any()"
      ],
      "metadata": {
        "colab": {
          "base_uri": "https://localhost:8080/"
        },
        "id": "WVzgZGGU2bNy",
        "outputId": "6e969c48-0ea3-44f5-b323-9865415b44e4"
      },
      "execution_count": null,
      "outputs": [
        {
          "output_type": "execute_result",
          "data": {
            "text/plain": [
              "False"
            ]
          },
          "metadata": {},
          "execution_count": 20
        }
      ]
    },
    {
      "cell_type": "code",
      "source": [
        "pref_df.drop_duplicates(inplace=True)"
      ],
      "metadata": {
        "id": "g9W9TRuS2VMd"
      },
      "execution_count": null,
      "outputs": []
    },
    {
      "cell_type": "code",
      "source": [
        "pref_df.shape"
      ],
      "metadata": {
        "colab": {
          "base_uri": "https://localhost:8080/"
        },
        "id": "0gdvA5BL2kqA",
        "outputId": "c1f4232b-9c74-4970-9b98-d8a6700de8ad"
      },
      "execution_count": null,
      "outputs": [
        {
          "output_type": "execute_result",
          "data": {
            "text/plain": [
              "(15, 6)"
            ]
          },
          "metadata": {},
          "execution_count": 22
        }
      ]
    },
    {
      "cell_type": "markdown",
      "source": [
        "## II - Analyze the cleaned dataset."
      ],
      "metadata": {
        "id": "ue4tbGxg2ltG"
      }
    },
    {
      "cell_type": "markdown",
      "source": [
        "#### Visualisation"
      ],
      "metadata": {
        "id": "yayjJDXr2tQ6"
      }
    },
    {
      "cell_type": "code",
      "source": [
        "plt.figure(figsize=(10, 6))\n",
        "sns.countplot(data=pref_df, x='Recipe Selection')\n",
        "plt.title(\"Luigi's Recipe Selection\")\n",
        "plt.xlabel(\"Recipe Selection\")\n",
        "plt.ylabel(\"Count\")\n",
        "plt.xticks(rotation=45)\n",
        "plt.show()"
      ],
      "metadata": {
        "colab": {
          "base_uri": "https://localhost:8080/",
          "height": 662
        },
        "id": "Lqgne1Ih21US",
        "outputId": "306bcd2d-4d97-4d4b-c1db-8b9e4a163c19"
      },
      "execution_count": null,
      "outputs": [
        {
          "output_type": "display_data",
          "data": {
            "text/plain": [
              "<Figure size 1000x600 with 1 Axes>"
            ],
            "image/png": "[encoded data removed]"
          },
          "metadata": {}
        }
      ]
    },
    {
      "cell_type": "code",
      "source": [
        "recipe_counts = pref_df['Recipe Selection'].value_counts()"
      ],
      "metadata": {
        "id": "TtBbt7mA3Pc6"
      },
      "execution_count": null,
      "outputs": []
    },
    {
      "cell_type": "code",
      "source": [
        "top_n = 5\n",
        "plt.figure(figsize=(10, 6))\n",
        "sns.barplot(x=recipe_counts.head(top_n).index, y=recipe_counts.head(top_n).values)\n",
        "plt.title(f\"Top {top_n} Most Frequently Selected Recipes by Luigi\")\n",
        "plt.xlabel(\"Recipe\")\n",
        "plt.ylabel(\"Frequency\")\n",
        "plt.xticks(rotation=45)\n",
        "plt.show()"
      ],
      "metadata": {
        "colab": {
          "base_uri": "https://localhost:8080/",
          "height": 662
        },
        "id": "dd8OPnko3R5M",
        "outputId": "a88ab48f-f998-4315-990d-5de2dc027d52"
      },
      "execution_count": null,
      "outputs": [
        {
          "output_type": "display_data",
          "data": {
            "text/plain": [
              "<Figure size 1000x600 with 1 Axes>"
            ],
            "image/png": "[encoded data removed]"
          },
          "metadata": {}
        }
      ]
    },
    {
      "cell_type": "code",
      "source": [
        "ossobuco_recipes = pref_df[pref_df['Recipe Selection'].str.contains(\"Ossobuco\")]\n",
        "ossobuco_counts = ossobuco_recipes['Recipe Selection'].value_counts()\n",
        "\n",
        "plt.figure(figsize=(10, 6))\n",
        "sns.barplot(x=ossobuco_counts.head(top_n).index, y=ossobuco_counts.head(top_n).values)\n",
        "plt.title(f\"Most Frequently Selected Ossobuco Recipes by Luigi\")\n",
        "plt.xlabel(\"Ossobuco Recipe\")\n",
        "plt.ylabel(\"Frequency\")\n",
        "plt.xticks(rotation=45)\n",
        "plt.show()"
      ],
      "metadata": {
        "colab": {
          "base_uri": "https://localhost:8080/",
          "height": 608
        },
        "id": "ETzYAfQW2K66",
        "outputId": "a3219e0b-8913-4cfa-a4a4-2648cb1a0af0"
      },
      "execution_count": null,
      "outputs": [
        {
          "output_type": "display_data",
          "data": {
            "text/plain": [
              "<Figure size 1000x600 with 1 Axes>"
            ],
            "image/png": "[encoded data removed]"
          },
          "metadata": {}
        }
      ]
    },
    {
      "cell_type": "code",
      "source": [
        "recipe_counts = pref_df['Recipe Selection'].apply(lambda x: len(x.split(',')))\n",
        "\n",
        "# Create a colorful bar plot using Seaborn\n",
        "plt.figure(figsize=(10, 6))\n",
        "sns.barplot(x=data_df['User ID'], y=recipe_counts)\n",
        "plt.xlabel('User ID')\n",
        "plt.ylabel('Number of Recipes Selected')\n",
        "plt.title('Number of Recipes Selected by User')\n",
        "plt.show()"
      ],
      "metadata": {
        "colab": {
          "base_uri": "https://localhost:8080/",
          "height": 564
        },
        "id": "bDntVtwSPC3K",
        "outputId": "79e0ce29-eff2-4195-cc78-09c8529a1873"
      },
      "execution_count": null,
      "outputs": [
        {
          "output_type": "display_data",
          "data": {
            "text/plain": [
              "<Figure size 1000x600 with 1 Axes>"
            ],
            "image/png": "[encoded data removed]"
          },
          "metadata": {}
        }
      ]
    },
    {
      "cell_type": "code",
      "source": [
        "# Pie chart of cuisine preference\n",
        "cuisine_preference_counts = pref_df['Cuisine Preference'].value_counts()\n",
        "plt.figure(figsize=(8, 8))\n",
        "plt.pie(cuisine_preference_counts, labels=cuisine_preference_counts.index, autopct='%1.1f%%', startangle=140)\n",
        "plt.title('Cuisine Preference Distribution')\n",
        "plt.show()"
      ],
      "metadata": {
        "colab": {
          "base_uri": "https://localhost:8080/",
          "height": 675
        },
        "id": "rWq3CC5ROYqi",
        "outputId": "1d825f3b-693d-4c6a-f336-018258b01242"
      },
      "execution_count": null,
      "outputs": [
        {
          "output_type": "display_data",
          "data": {
            "text/plain": [
              "<Figure size 800x800 with 1 Axes>"
            ],
            "image/png": "[encoded data removed]"
          },
          "metadata": {}
        }
      ]
    },
    {
      "cell_type": "code",
      "source": [
        "# Pie chart of cuisine preference\n",
        "recipe_preference_counts = pref_df['Recipe Selection'].value_counts()\n",
        "plt.figure(figsize=(8, 8))\n",
        "plt.pie(recipe_preference_counts, labels=recipe_preference_counts.index, autopct='%1.1f%%', startangle=140)\n",
        "plt.title('Recipe Distribution')\n",
        "plt.show()"
      ],
      "metadata": {
        "colab": {
          "base_uri": "https://localhost:8080/",
          "height": 675
        },
        "id": "C9Y87QmwOjuy",
        "outputId": "afe3c7e9-eb76-4608-ffb5-310437416c03"
      },
      "execution_count": null,
      "outputs": [
        {
          "output_type": "display_data",
          "data": {
            "text/plain": [
              "<Figure size 800x800 with 1 Axes>"
            ],
            "image/png": "[encoded data removed]"
          },
          "metadata": {}
        }
      ]
    },
    {
      "cell_type": "code",
      "source": [
        "data_df = pref_df"
      ],
      "metadata": {
        "id": "51rEUxbSyTpm"
      },
      "execution_count": null,
      "outputs": []
    },
    {
      "cell_type": "code",
      "source": [
        "data_df.head()"
      ],
      "metadata": {
        "colab": {
          "base_uri": "https://localhost:8080/",
          "height": 206
        },
        "id": "hoOfdKsIyYUI",
        "outputId": "4affa0a2-45bb-40a5-c238-f8706bf527ae"
      },
      "execution_count": null,
      "outputs": [
        {
          "output_type": "execute_result",
          "data": {
            "text/plain": [
              "   User ID  Age Nationality Residence Cuisine Preference     Recipe Selection\n",
              "0        1   26     Italian    Canada            Italian       Lasagna, Pizza\n",
              "1        2   26     Italian    Canada            Italian  Spaghetti Carbonara\n",
              "2        3   26     Italian    Canada            Italian             Tiramisu\n",
              "3        4   26     Italian    Canada            Italian              Risotto\n",
              "4        5   26     Italian    Canada            Italian          Panna Cotta"
            ],
            "text/html": [
              "\n",
              "  <div id=\"df-ab38e909-b61b-47ca-8b40-698dd2c56c54\" class=\"colab-df-container\">\n",
              "    <div>\n",
              "<style scoped>\n",
              "    .dataframe tbody tr th:only-of-type {\n",
              "        vertical-align: middle;\n",
              "    }\n",
              "\n",
              "    .dataframe tbody tr th {\n",
              "        vertical-align: top;\n",
              "    }\n",
              "\n",
              "    .dataframe thead th {\n",
              "        text-align: right;\n",
              "    }\n",
              "</style>\n",
              "<table border=\"1\" class=\"dataframe\">\n",
              "  <thead>\n",
              "    <tr style=\"text-align: right;\">\n",
              "      <th></th>\n",
              "      <th>User ID</th>\n",
              "      <th>Age</th>\n",
              "      <th>Nationality</th>\n",
              "      <th>Residence</th>\n",
              "      <th>Cuisine Preference</th>\n",
              "      <th>Recipe Selection</th>\n",
              "    </tr>\n",
              "  </thead>\n",
              "  <tbody>\n",
              "    <tr>\n",
              "      <th>0</th>\n",
              "      <td>1</td>\n",
              "      <td>26</td>\n",
              "      <td>Italian</td>\n",
              "      <td>Canada</td>\n",
              "      <td>Italian</td>\n",
              "      <td>Lasagna, Pizza</td>\n",
              "    </tr>\n",
              "    <tr>\n",
              "      <th>1</th>\n",
              "      <td>2</td>\n",
              "      <td>26</td>\n",
              "      <td>Italian</td>\n",
              "      <td>Canada</td>\n",
              "      <td>Italian</td>\n",
              "      <td>Spaghetti Carbonara</td>\n",
              "    </tr>\n",
              "    <tr>\n",
              "      <th>2</th>\n",
              "      <td>3</td>\n",
              "      <td>26</td>\n",
              "      <td>Italian</td>\n",
              "      <td>Canada</td>\n",
              "      <td>Italian</td>\n",
              "      <td>Tiramisu</td>\n",
              "    </tr>\n",
              "    <tr>\n",
              "      <th>3</th>\n",
              "      <td>4</td>\n",
              "      <td>26</td>\n",
              "      <td>Italian</td>\n",
              "      <td>Canada</td>\n",
              "      <td>Italian</td>\n",
              "      <td>Risotto</td>\n",
              "    </tr>\n",
              "    <tr>\n",
              "      <th>4</th>\n",
              "      <td>5</td>\n",
              "      <td>26</td>\n",
              "      <td>Italian</td>\n",
              "      <td>Canada</td>\n",
              "      <td>Italian</td>\n",
              "      <td>Panna Cotta</td>\n",
              "    </tr>\n",
              "  </tbody>\n",
              "</table>\n",
              "</div>\n",
              "    <div class=\"colab-df-buttons\">\n",
              "\n",
              "  <div class=\"colab-df-container\">\n",
              "    <button class=\"colab-df-convert\" onclick=\"convertToInteractive('df-ab38e909-b61b-47ca-8b40-698dd2c56c54')\"\n",
              "            title=\"Convert this dataframe to an interactive table.\"\n",
              "            style=\"display:none;\">\n",
              "\n",
              "  <svg xmlns=\"http://www.w3.org/2000/svg\" height=\"24px\" viewBox=\"0 -960 960 960\">\n",
              "    <path d=\"M120-120v-720h720v720H120Zm60-500h600v-160H180v160Zm220 220h160v-160H400v160Zm0 220h160v-160H400v160ZM180-400h160v-160H180v160Zm440 0h160v-160H620v160ZM180-180h160v-160H180v160Zm440 0h160v-160H620v160Z\"/>\n",
              "  </svg>\n",
              "    </button>\n",
              "\n",
              "  <style>\n",
              "    .colab-df-container {\n",
              "      display:flex;\n",
              "      gap: 12px;\n",
              "    }\n",
              "\n",
              "    .colab-df-convert {\n",
              "      background-color: #E8F0FE;\n",
              "      border: none;\n",
              "      border-radius: 50%;\n",
              "      cursor: pointer;\n",
              "      display: none;\n",
              "      fill: #1967D2;\n",
              "      height: 32px;\n",
              "      padding: 0 0 0 0;\n",
              "      width: 32px;\n",
              "    }\n",
              "\n",
              "    .colab-df-convert:hover {\n",
              "      background-color: #E2EBFA;\n",
              "      box-shadow: 0px 1px 2px rgba(60, 64, 67, 0.3), 0px 1px 3px 1px rgba(60, 64, 67, 0.15);\n",
              "      fill: #174EA6;\n",
              "    }\n",
              "\n",
              "    .colab-df-buttons div {\n",
              "      margin-bottom: 4px;\n",
              "    }\n",
              "\n",
              "    [theme=dark] .colab-df-convert {\n",
              "      background-color: #3B4455;\n",
              "      fill: #D2E3FC;\n",
              "    }\n",
              "\n",
              "    [theme=dark] .colab-df-convert:hover {\n",
              "      background-color: #434B5C;\n",
              "      box-shadow: 0px 1px 3px 1px rgba(0, 0, 0, 0.15);\n",
              "      filter: drop-shadow(0px 1px 2px rgba(0, 0, 0, 0.3));\n",
              "      fill: #FFFFFF;\n",
              "    }\n",
              "  </style>\n",
              "\n",
              "    <script>\n",
              "      const buttonEl =\n",
              "        document.querySelector('#df-ab38e909-b61b-47ca-8b40-698dd2c56c54 button.colab-df-convert');\n",
              "      buttonEl.style.display =\n",
              "        google.colab.kernel.accessAllowed ? 'block' : 'none';\n",
              "\n",
              "      async function convertToInteractive(key) {\n",
              "        const element = document.querySelector('#df-ab38e909-b61b-47ca-8b40-698dd2c56c54');\n",
              "        const dataTable =\n",
              "          await google.colab.kernel.invokeFunction('convertToInteractive',\n",
              "                                                    [key], {});\n",
              "        if (!dataTable) return;\n",
              "\n",
              "        const docLinkHtml = 'Like what you see? Visit the ' +\n",
              "          '<a target=\"_blank\" href=https://colab.research.google.com/notebooks/data_table.ipynb>data table notebook</a>'\n",
              "          + ' to learn more about interactive tables.';\n",
              "        element.innerHTML = '';\n",
              "        dataTable['output_type'] = 'display_data';\n",
              "        await google.colab.output.renderOutput(dataTable, element);\n",
              "        const docLink = document.createElement('div');\n",
              "        docLink.innerHTML = docLinkHtml;\n",
              "        element.appendChild(docLink);\n",
              "      }\n",
              "    </script>\n",
              "  </div>\n",
              "\n",
              "\n",
              "<div id=\"df-e8728b84-7c55-4875-bbef-852dc232d3a1\">\n",
              "  <button class=\"colab-df-quickchart\" onclick=\"quickchart('df-e8728b84-7c55-4875-bbef-852dc232d3a1')\"\n",
              "            title=\"Suggest charts.\"\n",
              "            style=\"display:none;\">\n",
              "\n",
              "<svg xmlns=\"http://www.w3.org/2000/svg\" height=\"24px\"viewBox=\"0 0 24 24\"\n",
              "     width=\"24px\">\n",
              "    <g>\n",
              "        <path d=\"M19 3H5c-1.1 0-2 .9-2 2v14c0 1.1.9 2 2 2h14c1.1 0 2-.9 2-2V5c0-1.1-.9-2-2-2zM9 17H7v-7h2v7zm4 0h-2V7h2v10zm4 0h-2v-4h2v4z\"/>\n",
              "    </g>\n",
              "</svg>\n",
              "  </button>\n",
              "\n",
              "<style>\n",
              "  .colab-df-quickchart {\n",
              "      --bg-color: #E8F0FE;\n",
              "      --fill-color: #1967D2;\n",
              "      --hover-bg-color: #E2EBFA;\n",
              "      --hover-fill-color: #174EA6;\n",
              "      --disabled-fill-color: #AAA;\n",
              "      --disabled-bg-color: #DDD;\n",
              "  }\n",
              "\n",
              "  [theme=dark] .colab-df-quickchart {\n",
              "      --bg-color: #3B4455;\n",
              "      --fill-color: #D2E3FC;\n",
              "      --hover-bg-color: #434B5C;\n",
              "      --hover-fill-color: #FFFFFF;\n",
              "      --disabled-bg-color: #3B4455;\n",
              "      --disabled-fill-color: #666;\n",
              "  }\n",
              "\n",
              "  .colab-df-quickchart {\n",
              "    background-color: var(--bg-color);\n",
              "    border: none;\n",
              "    border-radius: 50%;\n",
              "    cursor: pointer;\n",
              "    display: none;\n",
              "    fill: var(--fill-color);\n",
              "    height: 32px;\n",
              "    padding: 0;\n",
              "    width: 32px;\n",
              "  }\n",
              "\n",
              "  .colab-df-quickchart:hover {\n",
              "    background-color: var(--hover-bg-color);\n",
              "    box-shadow: 0 1px 2px rgba(60, 64, 67, 0.3), 0 1px 3px 1px rgba(60, 64, 67, 0.15);\n",
              "    fill: var(--button-hover-fill-color);\n",
              "  }\n",
              "\n",
              "  .colab-df-quickchart-complete:disabled,\n",
              "  .colab-df-quickchart-complete:disabled:hover {\n",
              "    background-color: var(--disabled-bg-color);\n",
              "    fill: var(--disabled-fill-color);\n",
              "    box-shadow: none;\n",
              "  }\n",
              "\n",
              "  .colab-df-spinner {\n",
              "    border: 2px solid var(--fill-color);\n",
              "    border-color: transparent;\n",
              "    border-bottom-color: var(--fill-color);\n",
              "    animation:\n",
              "      spin 1s steps(1) infinite;\n",
              "  }\n",
              "\n",
              "  @keyframes spin {\n",
              "    0% {\n",
              "      border-color: transparent;\n",
              "      border-bottom-color: var(--fill-color);\n",
              "      border-left-color: var(--fill-color);\n",
              "    }\n",
              "    20% {\n",
              "      border-color: transparent;\n",
              "      border-left-color: var(--fill-color);\n",
              "      border-top-color: var(--fill-color);\n",
              "    }\n",
              "    30% {\n",
              "      border-color: transparent;\n",
              "      border-left-color: var(--fill-color);\n",
              "      border-top-color: var(--fill-color);\n",
              "      border-right-color: var(--fill-color);\n",
              "    }\n",
              "    40% {\n",
              "      border-color: transparent;\n",
              "      border-right-color: var(--fill-color);\n",
              "      border-top-color: var(--fill-color);\n",
              "    }\n",
              "    60% {\n",
              "      border-color: transparent;\n",
              "      border-right-color: var(--fill-color);\n",
              "    }\n",
              "    80% {\n",
              "      border-color: transparent;\n",
              "      border-right-color: var(--fill-color);\n",
              "      border-bottom-color: var(--fill-color);\n",
              "    }\n",
              "    90% {\n",
              "      border-color: transparent;\n",
              "      border-bottom-color: var(--fill-color);\n",
              "    }\n",
              "  }\n",
              "</style>\n",
              "\n",
              "  <script>\n",
              "    async function quickchart(key) {\n",
              "      const quickchartButtonEl =\n",
              "        document.querySelector('#' + key + ' button');\n",
              "      quickchartButtonEl.disabled = true;  // To prevent multiple clicks.\n",
              "      quickchartButtonEl.classList.add('colab-df-spinner');\n",
              "      try {\n",
              "        const charts = await google.colab.kernel.invokeFunction(\n",
              "            'suggestCharts', [key], {});\n",
              "      } catch (error) {\n",
              "        console.error('Error during call to suggestCharts:', error);\n",
              "      }\n",
              "      quickchartButtonEl.classList.remove('colab-df-spinner');\n",
              "      quickchartButtonEl.classList.add('colab-df-quickchart-complete');\n",
              "    }\n",
              "    (() => {\n",
              "      let quickchartButtonEl =\n",
              "        document.querySelector('#df-e8728b84-7c55-4875-bbef-852dc232d3a1 button');\n",
              "      quickchartButtonEl.style.display =\n",
              "        google.colab.kernel.accessAllowed ? 'block' : 'none';\n",
              "    })();\n",
              "  </script>\n",
              "</div>\n",
              "    </div>\n",
              "  </div>\n"
            ]
          },
          "metadata": {},
          "execution_count": 41
        }
      ]
    },
    {
      "cell_type": "markdown",
      "source": [
        "### TF-IDF Vectorization"
      ],
      "metadata": {
        "id": "xV3YUH5zyZke"
      }
    },
    {
      "cell_type": "code",
      "source": [
        "tfidf_vectorizer = TfidfVectorizer(stop_words='english')\n",
        "tfidf_matrix = tfidf_vectorizer.fit_transform(data_df['Recipe Selection'])"
      ],
      "metadata": {
        "id": "Vy41Dt8bFYFD"
      },
      "execution_count": null,
      "outputs": []
    },
    {
      "cell_type": "markdown",
      "source": [
        "### Cosine Similarity"
      ],
      "metadata": {
        "id": "7TX-JKF9zHYr"
      }
    },
    {
      "cell_type": "code",
      "source": [
        "cosine_sim = linear_kernel(tfidf_matrix, tfidf_matrix)"
      ],
      "metadata": {
        "id": "s6ajw2mvzGwG"
      },
      "execution_count": null,
      "outputs": []
    },
    {
      "cell_type": "code",
      "source": [
        "recipe_indices = pd.Series(data_df.index, index=data_df['Recipe Selection']).drop_duplicates()"
      ],
      "metadata": {
        "id": "952LMRHRE5JM"
      },
      "execution_count": null,
      "outputs": []
    },
    {
      "cell_type": "markdown",
      "source": [
        "### Recommendation system - I"
      ],
      "metadata": {
        "id": "ySpt64T4y-VF"
      }
    },
    {
      "cell_type": "code",
      "source": [
        "def get_content_based_recommendations(recipe_name):\n",
        "    idx = data_df[data_df['Recipe Selection'] == recipe_name].index[0]\n",
        "    sim_scores = list(enumerate(cosine_sim[idx]))\n",
        "    sim_scores = sorted(sim_scores, key=lambda x: x[1], reverse=True)\n",
        "    sim_scores = sim_scores[1:6]  # Get the top 5 similar recipes\n",
        "    recommended_indices = [i[0] for i in sim_scores]\n",
        "    return data_df['Recipe Selection'].iloc[recommended_indices]"
      ],
      "metadata": {
        "id": "EoXecSYAIA34"
      },
      "execution_count": null,
      "outputs": []
    },
    {
      "cell_type": "code",
      "source": [
        "#Get content-based recommendations based on Luigi's last recipe\n",
        "luigi_last_recipe = 'Spaghetti Carbonara'\n",
        "content_based_recommendations = get_content_based_recommendations(luigi_last_recipe)\n",
        "print(\"Content-Based Recommendations:\")\n",
        "print(content_based_recommendations)"
      ],
      "metadata": {
        "colab": {
          "base_uri": "https://localhost:8080/"
        },
        "id": "r2hkKFq2IA6m",
        "outputId": "d03666cc-b757-466d-ec2d-0e38c3f9c90b"
      },
      "execution_count": null,
      "outputs": [
        {
          "output_type": "stream",
          "name": "stdout",
          "text": [
            "Content-Based Recommendations:\n",
            "0    Lasagna, Pizza\n",
            "2          Tiramisu\n",
            "3           Risotto\n",
            "4       Panna Cotta\n",
            "5           Gnocchi\n",
            "Name: Recipe Selection, dtype: object\n"
          ]
        }
      ]
    },
    {
      "cell_type": "markdown",
      "source": [
        "### Recommendation system - II"
      ],
      "metadata": {
        "id": "MyEv_Klb1y5d"
      }
    },
    {
      "cell_type": "code",
      "source": [
        "new_data = pref_df"
      ],
      "metadata": {
        "id": "9RvhYHzR5N9i"
      },
      "execution_count": null,
      "outputs": []
    },
    {
      "cell_type": "code",
      "source": [
        "# Encode User ID and Recipe Selection using LabelEncoder\n",
        "user_encoder = LabelEncoder()\n",
        "recipe_encoder = LabelEncoder()\n",
        "new_data['User ID'] = user_encoder.fit_transform(new_data['User ID'])\n",
        "new_data['Recipe Selection'] = recipe_encoder.fit_transform(new_data['Recipe Selection'])"
      ],
      "metadata": {
        "id": "dy-poBez5G4i"
      },
      "execution_count": null,
      "outputs": []
    },
    {
      "cell_type": "code",
      "source": [
        "# Split data into training and testing sets\n",
        "train, test = train_test_split(new_data, test_size=0.2, random_state=42)"
      ],
      "metadata": {
        "id": "qJxuCYgq5jPf"
      },
      "execution_count": null,
      "outputs": []
    },
    {
      "cell_type": "code",
      "source": [
        "# Define the neural collaborative filtering model\n",
        "num_users = len(new_data['User ID'].unique())\n",
        "num_recipes = len(new_data['Recipe Selection'].unique())"
      ],
      "metadata": {
        "id": "uF2g8c2351oT"
      },
      "execution_count": null,
      "outputs": []
    },
    {
      "cell_type": "code",
      "source": [
        "user_input = Input(shape=(1,), name='user_input')\n",
        "recipe_input = Input(shape=(1,), name='recipe_input')"
      ],
      "metadata": {
        "id": "a0pda2cc6Sdt"
      },
      "execution_count": null,
      "outputs": []
    },
    {
      "cell_type": "code",
      "source": [
        "user_embedding = Embedding(input_dim=num_users, output_dim=16)(user_input)\n",
        "recipe_embedding = Embedding(input_dim=num_recipes, output_dim=16)(recipe_input)"
      ],
      "metadata": {
        "id": "Ne_JR5P76c0l"
      },
      "execution_count": null,
      "outputs": []
    },
    {
      "cell_type": "code",
      "source": [
        "user_flatten = Flatten()(user_embedding)\n",
        "recipe_flatten = Flatten()(recipe_embedding)"
      ],
      "metadata": {
        "id": "9b10z9N46g1Q"
      },
      "execution_count": null,
      "outputs": []
    },
    {
      "cell_type": "code",
      "source": [
        "concat = Concatenate()([user_flatten, recipe_flatten])"
      ],
      "metadata": {
        "id": "fU14LEvE6jwp"
      },
      "execution_count": null,
      "outputs": []
    },
    {
      "cell_type": "code",
      "source": [
        "dense_layer = Dense(128, activation='relu')(concat)\n",
        "output = Dense(1, activation='sigmoid')(dense_layer)"
      ],
      "metadata": {
        "id": "TQaEydCm6m4T"
      },
      "execution_count": null,
      "outputs": []
    },
    {
      "cell_type": "code",
      "source": [
        "model = Model(inputs=[user_input, recipe_input], outputs=output)"
      ],
      "metadata": {
        "id": "cDV9-DMd6pB3"
      },
      "execution_count": null,
      "outputs": []
    },
    {
      "cell_type": "code",
      "source": [
        "# Compile the model\n",
        "model.compile(optimizer=Adam(lr=0.001), loss='binary_crossentropy', metrics=['accuracy'])"
      ],
      "metadata": {
        "colab": {
          "base_uri": "https://localhost:8080/"
        },
        "id": "ZM8RV5Ad6qXl",
        "outputId": "dd73ce76-d7e1-4c6a-f35e-f1d40eab1221"
      },
      "execution_count": null,
      "outputs": [
        {
          "output_type": "stream",
          "name": "stderr",
          "text": [
            "WARNING:absl:`lr` is deprecated in Keras optimizer, please use `learning_rate` or use the legacy optimizer, e.g.,tf.keras.optimizers.legacy.Adam.\n"
          ]
        }
      ]
    },
    {
      "cell_type": "code",
      "source": [
        "# Train the model\n",
        "model.fit([train['User ID'], train['Recipe Selection']], np.ones(len(train)), batch_size=64, epochs=10, verbose=1)"
      ],
      "metadata": {
        "colab": {
          "base_uri": "https://localhost:8080/"
        },
        "id": "f7pktFY16t4e",
        "outputId": "b5c0e537-eba0-4b77-be6f-ce8338866ae4"
      },
      "execution_count": null,
      "outputs": [
        {
          "output_type": "stream",
          "name": "stdout",
          "text": [
            "Epoch 1/10\n",
            "1/1 [==============================] - 1s 1s/step - loss: 0.6916 - accuracy: 0.5000\n",
            "Epoch 2/10\n",
            "1/1 [==============================] - 0s 14ms/step - loss: 0.6845 - accuracy: 0.9167\n",
            "Epoch 3/10\n",
            "1/1 [==============================] - 0s 14ms/step - loss: 0.6777 - accuracy: 1.0000\n",
            "Epoch 4/10\n",
            "1/1 [==============================] - 0s 14ms/step - loss: 0.6709 - accuracy: 1.0000\n",
            "Epoch 5/10\n",
            "1/1 [==============================] - 0s 12ms/step - loss: 0.6642 - accuracy: 1.0000\n",
            "Epoch 6/10\n",
            "1/1 [==============================] - 0s 12ms/step - loss: 0.6577 - accuracy: 1.0000\n",
            "Epoch 7/10\n",
            "1/1 [==============================] - 0s 14ms/step - loss: 0.6512 - accuracy: 1.0000\n",
            "Epoch 8/10\n",
            "1/1 [==============================] - 0s 11ms/step - loss: 0.6447 - accuracy: 1.0000\n",
            "Epoch 9/10\n",
            "1/1 [==============================] - 0s 13ms/step - loss: 0.6381 - accuracy: 1.0000\n",
            "Epoch 10/10\n",
            "1/1 [==============================] - 0s 11ms/step - loss: 0.6315 - accuracy: 1.0000\n"
          ]
        },
        {
          "output_type": "execute_result",
          "data": {
            "text/plain": [
              "<keras.src.callbacks.History at 0x79fe35d759c0>"
            ]
          },
          "metadata": {},
          "execution_count": 34
        }
      ]
    },
    {
      "cell_type": "markdown",
      "source": [
        "### Model Evaluate"
      ],
      "metadata": {
        "id": "B9ZBOgVuNS15"
      }
    },
    {
      "cell_type": "code",
      "source": [
        "# Evaluate the model on the training set\n",
        "train_loss, train_accuracy = model.evaluate([train['User ID'], train['Recipe Selection']], np.ones(len(train)))\n",
        "print(f'Training Loss: {train_loss}, Training Accuracy: {train_accuracy}')"
      ],
      "metadata": {
        "colab": {
          "base_uri": "https://localhost:8080/"
        },
        "id": "5ONB_epxkBlj",
        "outputId": "383ab84e-46bf-42fe-c130-8cc7d143f727"
      },
      "execution_count": null,
      "outputs": [
        {
          "output_type": "stream",
          "name": "stdout",
          "text": [
            "1/1 [==============================] - 1s 563ms/step - loss: 0.6249 - accuracy: 1.0000\n",
            "Training Loss: 0.6249142289161682, Training Accuracy: 1.0\n"
          ]
        }
      ]
    },
    {
      "cell_type": "code",
      "source": [
        "# Evaluate the model on the test set\n",
        "loss, accuracy = model.evaluate([test['User ID'], test['Recipe Selection']], np.ones(len(test)))\n",
        "print(f'Test Loss: {loss}, Test Accuracy: {accuracy}')"
      ],
      "metadata": {
        "colab": {
          "base_uri": "https://localhost:8080/"
        },
        "id": "GohPC6Ox6weH",
        "outputId": "b69bb51e-660c-490e-81dc-b60da7330baf"
      },
      "execution_count": null,
      "outputs": [
        {
          "output_type": "stream",
          "name": "stdout",
          "text": [
            "1/1 [==============================] - 0s 29ms/step - loss: 0.6423 - accuracy: 1.0000\n",
            "Test Loss: 0.6422528624534607, Test Accuracy: 1.0\n"
          ]
        }
      ]
    },
    {
      "cell_type": "code",
      "source": [
        "# Make predictions on the test set\n",
        "test_predictions = model.predict([test['User ID'], test['Recipe Selection']])"
      ],
      "metadata": {
        "colab": {
          "base_uri": "https://localhost:8080/"
        },
        "id": "-61QmNg_NVhM",
        "outputId": "d5cc1de8-af90-4aef-ba5c-c47878b78efb"
      },
      "execution_count": null,
      "outputs": [
        {
          "output_type": "stream",
          "name": "stdout",
          "text": [
            "1/1 [==============================] - 0s 108ms/step\n"
          ]
        }
      ]
    },
    {
      "cell_type": "code",
      "source": [
        "# Calculate Mean Squared Error (MSE)\n",
        "mse = mean_squared_error(test_predictions, np.ones(len(test)))\n",
        "print(f'Mean Squared Error (MSE): {mse}')"
      ],
      "metadata": {
        "colab": {
          "base_uri": "https://localhost:8080/"
        },
        "id": "9vFLoCPoNaEV",
        "outputId": "6a19c144-fa11-4402-8b10-6b3f7f70b42a"
      },
      "execution_count": null,
      "outputs": [
        {
          "output_type": "stream",
          "name": "stdout",
          "text": [
            "Mean Squared Error (MSE): 0.22457606893381646\n"
          ]
        }
      ]
    },
    {
      "cell_type": "code",
      "source": [
        "# Calculate Root Mean Squared Error (RMSE)\n",
        "rmse = np.sqrt(mse)\n",
        "print(f'Root Mean Squared Error (RMSE): {rmse}')"
      ],
      "metadata": {
        "colab": {
          "base_uri": "https://localhost:8080/"
        },
        "id": "O5e29WmyNfve",
        "outputId": "fa546756-afda-4c90-e073-d6e50117c495"
      },
      "execution_count": null,
      "outputs": [
        {
          "output_type": "stream",
          "name": "stdout",
          "text": [
            "Root Mean Squared Error (RMSE): 0.4738945757590146\n"
          ]
        }
      ]
    },
    {
      "cell_type": "markdown",
      "source": [
        "####Make recommendations"
      ],
      "metadata": {
        "id": "tYeKKmR-LOZg"
      }
    },
    {
      "cell_type": "code",
      "source": [
        "#Make recommendations for user ID 1 and a list of recipe IDs\n",
        "user_id = 1\n",
        "recipe_ids = [0, 1, 2, 3, 4]  # Recipe IDs are encoded, e.g., 0 corresponds to 'Lasagna, Pizza'"
      ],
      "metadata": {
        "id": "MqhPN1qKMIQA"
      },
      "execution_count": null,
      "outputs": []
    },
    {
      "cell_type": "code",
      "source": [
        "# Convert user ID and recipe IDs to numpy arrays for prediction\n",
        "user_id_array = np.array([user_id] * len(recipe_ids))\n",
        "recipe_ids_array = np.array(recipe_ids)"
      ],
      "metadata": {
        "id": "_LjCfPcJM3fv"
      },
      "execution_count": null,
      "outputs": []
    },
    {
      "cell_type": "code",
      "source": [
        "# Make recommendations\n",
        "predictions = model.predict([user_id_array, recipe_ids_array])"
      ],
      "metadata": {
        "colab": {
          "base_uri": "https://localhost:8080/"
        },
        "id": "1hdrfVkSM4Eq",
        "outputId": "7003e20c-0f4f-4914-d5de-5fd25807dc63"
      },
      "execution_count": null,
      "outputs": [
        {
          "output_type": "stream",
          "name": "stdout",
          "text": [
            "1/1 [==============================] - 0s 120ms/step\n"
          ]
        }
      ]
    },
    {
      "cell_type": "code",
      "source": [
        "# Sort the predictions in descending order to get recommended recipe IDs\n",
        "sorted_indices = np.argsort(predictions[:, 0])[::-1]\n",
        "recommended_recipe_ids = [recipe_encoder.inverse_transform([recipe_ids[i]])[0] for i in sorted_indices]"
      ],
      "metadata": {
        "id": "eVsk6NSqM0ID"
      },
      "execution_count": null,
      "outputs": []
    },
    {
      "cell_type": "code",
      "source": [
        "print(\"Recommended Recipe IDs:\")\n",
        "print(recommended_recipe_ids)"
      ],
      "metadata": {
        "colab": {
          "base_uri": "https://localhost:8080/"
        },
        "id": "Ga84oZrSND-5",
        "outputId": "709c38a2-3698-4c5c-c0c4-d1df2fee91cc"
      },
      "execution_count": null,
      "outputs": [
        {
          "output_type": "stream",
          "name": "stdout",
          "text": [
            "Recommended Recipe IDs:\n",
            "['Caprese Salad', 'Cannoli', 'Eggplant Parmigiana', 'Focaccia', 'Biscotti']\n"
          ]
        }
      ]
    },
    {
      "cell_type": "markdown",
      "source": [
        "#####second recommendation"
      ],
      "metadata": {
        "id": "2KWnggEsNFvX"
      }
    },
    {
      "cell_type": "code",
      "source": [
        "#Make recommendations for user ID 1 and a list of recipe IDs\n",
        "user_id = 2\n",
        "recipe_ids = [5, 6, 7, 8, 9]  # Recipe IDs are encoded, e.g., 0 corresponds to 'Lasagna, Pizza'"
      ],
      "metadata": {
        "id": "3NX18oYjphJR"
      },
      "execution_count": null,
      "outputs": []
    },
    {
      "cell_type": "code",
      "source": [
        "# Convert user ID and recipe IDs to numpy arrays for prediction\n",
        "user_id_array = np.array([user_id] * len(recipe_ids))\n",
        "recipe_ids_array = np.array(recipe_ids)"
      ],
      "metadata": {
        "id": "tBVxho5yphJT"
      },
      "execution_count": null,
      "outputs": []
    },
    {
      "cell_type": "code",
      "source": [
        "# Make recommendations\n",
        "predictions = model.predict([user_id_array, recipe_ids_array])"
      ],
      "metadata": {
        "colab": {
          "base_uri": "https://localhost:8080/"
        },
        "outputId": "6a10e7ca-9aa1-4870-fa6c-fa72a60e27f5",
        "id": "EpUnlrbtphJT"
      },
      "execution_count": null,
      "outputs": [
        {
          "output_type": "stream",
          "name": "stdout",
          "text": [
            "1/1 [==============================] - 0s 23ms/step\n"
          ]
        }
      ]
    },
    {
      "cell_type": "code",
      "source": [
        "# Sort the predictions in descending order to get recommended recipe IDs\n",
        "sorted_indices = np.argsort(predictions[:, 0])[::-1]\n",
        "recommended_recipe_ids = [recipe_encoder.inverse_transform([recipe_ids[i]])[0] for i in sorted_indices]"
      ],
      "metadata": {
        "id": "3om_I94CphJU"
      },
      "execution_count": null,
      "outputs": []
    },
    {
      "cell_type": "code",
      "source": [
        "print(\"Recommended Recipe IDs:\")\n",
        "print(recommended_recipe_ids)"
      ],
      "metadata": {
        "colab": {
          "base_uri": "https://localhost:8080/"
        },
        "outputId": "3f53738c-35df-4b33-d751-dcea96e11303",
        "id": "w32CbgXMphJV"
      },
      "execution_count": null,
      "outputs": [
        {
          "output_type": "stream",
          "name": "stdout",
          "text": [
            "Recommended Recipe IDs:\n",
            "['Ossobuco', 'Panna Cotta', 'Gnocchi', 'Lasagna, Pizza', 'Minestrone Soup']\n"
          ]
        }
      ]
    },
    {
      "cell_type": "code",
      "source": [],
      "metadata": {
        "id": "W4-PloJZphJV"
      },
      "execution_count": null,
      "outputs": []
    }
  ]
}