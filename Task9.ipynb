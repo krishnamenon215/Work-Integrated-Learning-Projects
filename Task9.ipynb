{
  "nbformat": 4,
  "nbformat_minor": 0,
  "metadata": {
    "colab": {
      "provenance": []
    },
    "kernelspec": {
      "name": "python3",
      "display_name": "Python 3"
    },
    "language_info": {
      "name": "python"
    }
  },
  "cells": [
    {
      "cell_type": "code",
      "source": [
        "from sklearn.metrics.pairwise import cosine_similarity\n",
        "import numpy as np\n",
        "import pandas as pd"
      ],
      "metadata": {
        "id": "RPCPWBMIFk-3"
      },
      "execution_count": null,
      "outputs": []
    },
    {
      "cell_type": "markdown",
      "source": [
        "#1) Preprocess Brandon Campbell’s data and engineer features relevant to his information:"
      ],
      "metadata": {
        "id": "Xvf0LZoTEJQd"
      }
    },
    {
      "cell_type": "code",
      "source": [
        "brandon_data = {\n",
        "    'age': 30,\n",
        "    'allergies': ['egg'],\n",
        "    'weekly_budget': 100,\n",
        "    'purchase_history': {\n",
        "        'milk': 1,\n",
        "        'whole_wheat_bread': 1,\n",
        "        'peanut_butter': 1,\n",
        "        'strawberries': 0.5,\n",
        "        'chicken': 1,\n",
        "        'rice': 2,\n",
        "        'bell_peppers': 3,\n",
        "        'carrots': 0.5\n",
        "    }\n",
        "}"
      ],
      "metadata": {
        "id": "l2_1z5vtEepA"
      },
      "execution_count": null,
      "outputs": []
    },
    {
      "cell_type": "code",
      "source": [
        "brandon_data"
      ],
      "metadata": {
        "id": "B_SNSAf0JEBf",
        "outputId": "1038d415-6927-41aa-a91a-3969f7b37d84",
        "colab": {
          "base_uri": "https://localhost:8080/"
        }
      },
      "execution_count": null,
      "outputs": [
        {
          "output_type": "execute_result",
          "data": {
            "text/plain": [
              "{'age': 30,\n",
              " 'allergies': ['egg'],\n",
              " 'weekly_budget': 100,\n",
              " 'purchase_history': {'milk': 1,\n",
              "  'whole_wheat_bread': 1,\n",
              "  'peanut_butter': 1,\n",
              "  'strawberries': 0.5,\n",
              "  'chicken': 1,\n",
              "  'rice': 2,\n",
              "  'bell_peppers': 3,\n",
              "  'carrots': 0.5}}"
            ]
          },
          "metadata": {},
          "execution_count": 3
        }
      ]
    },
    {
      "cell_type": "code",
      "source": [
        "# Feature Engineering\n",
        "brandon_data['total_quantity'] = sum(brandon_data['purchase_history'].values())\n",
        "brandon_data['avg_spending_per_item'] = brandon_data['weekly_budget'] / brandon_data['total_quantity'] if brandon_data['total_quantity'] > 0 else 0\n",
        "brandon_data['purchased_items'] = list(brandon_data['purchase_history'].keys())\n",
        "dietary_preferences = ['egg', 'dairy', 'nuts', 'gluten', 'vegetarian']\n",
        "brandon_data['dietary_preferences'] = [1 if allergy in brandon_data['allergies'] else 0 for allergy in dietary_preferences]\n"
      ],
      "metadata": {
        "id": "CJG0vxEnE0Ba"
      },
      "execution_count": null,
      "outputs": []
    },
    {
      "cell_type": "markdown",
      "source": [
        "#2) Create a binary variable to indicate if a food item in the dataset contains eggs or not:"
      ],
      "metadata": {
        "id": "d11JriyQFVZv"
      }
    },
    {
      "cell_type": "code",
      "source": [
        "# Sample dataset with prices for each item\n",
        "dataset = {\n",
        "    'milk': {'contains_eggs': 0, 'price': 2.5},\n",
        "    'whole_wheat_bread': {'contains_eggs': 0, 'price': 3.0},\n",
        "    'peanut_butter': {'contains_eggs': 0, 'price': 5.0},\n",
        "    'strawberries': {'contains_eggs': 0, 'price': 4.0},\n",
        "    'chicken': {'contains_eggs': 0, 'price': 8.0},\n",
        "    'rice': {'contains_eggs': 0, 'price': 2.0},\n",
        "    'bell_peppers': {'contains_eggs': 0, 'price': 1.5},\n",
        "    'carrots': {'contains_eggs': 0, 'price': 1.0},\n",
        "}"
      ],
      "metadata": {
        "id": "7JYuIsWSFZLp"
      },
      "execution_count": null,
      "outputs": []
    },
    {
      "cell_type": "markdown",
      "source": [
        "#3) Develop a content-based filtering model that uses Brandon Campbell’s features to recommend suitable food items and recipes:"
      ],
      "metadata": {
        "id": "SVDXynR_FetD"
      }
    },
    {
      "cell_type": "code",
      "source": [
        "# Update the purchase history to include prices\n",
        "brandon_data['purchase_history_with_prices'] = {item: dataset[item]['price'] for item in brandon_data['purchase_history']}"
      ],
      "metadata": {
        "id": "whVP5211FhsF"
      },
      "execution_count": null,
      "outputs": []
    },
    {
      "cell_type": "code",
      "source": [
        "# Convert the purchase history with prices to a numpy array\n",
        "purchase_array = np.array(list(brandon_data['purchase_history_with_prices'].values())).reshape(1, -1)"
      ],
      "metadata": {
        "id": "M3LXbMG5FrF5"
      },
      "execution_count": null,
      "outputs": []
    },
    {
      "cell_type": "code",
      "source": [
        "# Convert the dataset to a numpy array and transpose it\n",
        "dataset_array = np.array([list(item.values()) for item in dataset.values()]).T"
      ],
      "metadata": {
        "id": "SVh58g-wF_vi"
      },
      "execution_count": null,
      "outputs": []
    },
    {
      "cell_type": "code",
      "source": [
        "# Calculate cosine similarity\n",
        "similarity_scores = cosine_similarity(purchase_array, dataset_array)"
      ],
      "metadata": {
        "id": "AN5NmjQZFs_H"
      },
      "execution_count": null,
      "outputs": []
    },
    {
      "cell_type": "code",
      "source": [
        "# Get recommended items based on similarity\n",
        "recommended_items = [item for item, score in zip(dataset.keys(), similarity_scores[0]) if score > 0]"
      ],
      "metadata": {
        "id": "Ivpi75TBFwng"
      },
      "execution_count": null,
      "outputs": []
    },
    {
      "cell_type": "markdown",
      "source": [
        "#4) Consider his dietary restrictions, past purchase history, and budget limitations:"
      ],
      "metadata": {
        "id": "Fr1DI6rQGDNl"
      }
    },
    {
      "cell_type": "code",
      "source": [
        "# Filter based on dietary preferences and budget constraints\n",
        "final_recommendations = [item for item in recommended_items if dataset[item]['contains_eggs'] == 0 and brandon_data['weekly_budget'] >= dataset[item]['price']]\n",
        "\n",
        "print(\"Final Recommendations:\", final_recommendations)"
      ],
      "metadata": {
        "colab": {
          "base_uri": "https://localhost:8080/"
        },
        "id": "6LKZhrEZHJz0",
        "outputId": "35ba35c7-ce36-4358-d6da-7b23737593f0"
      },
      "execution_count": null,
      "outputs": [
        {
          "output_type": "stream",
          "name": "stdout",
          "text": [
            "Final Recommendations: ['whole_wheat_bread']\n"
          ]
        }
      ]
    }
  ]
}